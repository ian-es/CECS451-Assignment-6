{
 "cells": [
  {
   "cell_type": "code",
   "execution_count": 1,
   "id": "f3e8f792-1d6b-4d31-b544-fd674a4566c2",
   "metadata": {},
   "outputs": [
    {
     "name": "stdout",
     "output_type": "stream",
     "text": [
      "Part A. The sampling probabilities\n",
      "P(C|-s,r) = <0.8780, 0.1220>\n",
      "P(C|-s,-r) = <0.3103, 0.6897>\n",
      "P(R|c,-s,w) = <0.9863, 0.0137>\n",
      "P(R|-c,-s,w) = <0.8182, 0.1818>\n",
      "\n",
      "Part B. The transition probability matrix\n",
      "       S1          S2          S3          S4     \n",
      "S1   0.9322      0.0068      0.0610      0.0000   \n",
      "S2   0.4932      0.1620      0.0000      0.3448   \n",
      "S3   0.4390      0.0000      0.4701      0.0909   \n",
      "S4   0.0000      0.1552      0.4091      0.4357   \n",
      "\n",
      "Part C. The probability for the query\n",
      "P(C|-s,w) = <0.8575,0.1425>\n"
     ]
    }
   ],
   "source": [
    "import random\n",
    "\n",
    "print(\"Part A. The sampling probabilities\")\n",
    "\n",
    "transitionsC = [[(0.36/0.41), 0, (0.05/0.41), 0], # S1\n",
    "                [0, (0.09/0.29), 0, (0.2/0.29) ], # S2\n",
    "                [(0.36/0.41), 0, (0.05/0.41), 0], # S3\n",
    "                [0, (0.09/0.29), 0, (0.2/0.29)]]  # S4\n",
    "\n",
    "transitionsR = [[(0.72/0.73), (0.01/0.73), 0, 0], # S1\n",
    "                [(0.72/0.73), (0.01/0.73), 0, 0], # S2\n",
    "                [0, 0, (0.18/0.22), (0.04/0.22)], # S3\n",
    "                [0, 0, (0.18/0.22), (0.04/0.22)]] # S4\n",
    "\n",
    "transitionProb = [[0 for _ in range(4)] for _ in range(4)]\n",
    "\n",
    "print(\"P(C|-s,r) = <{:.4f}, {:.4f}>\".format((0.36/0.41),0.05/0.41)) # P(c|-s,r), P(-c|-s,r)\n",
    "print(\"P(C|-s,-r) = <{:.4f}, {:.4f}>\".format((0.09/0.29),(0.2/0.29))) # P(c|-s,-r), P(-c|-s,-r)\n",
    "print(\"P(R|c,-s,w) = <{:.4f}, {:.4f}>\".format((0.72/0.73),(0.01/0.73))) # P(r|c,-s,w), P(-r|c,-s,w)\n",
    "print(\"P(R|-c,-s,w) = <{:.4f}, {:.4f}>\".format((0.18/0.22),(0.04/0.22))) # P(r|-c,-s,w), P(-r|-c,-s,w)\n",
    "\n",
    "print(\"\\nPart B. The transition probability matrix\")\n",
    "\n",
    "print(f\"  {'S1':^12}{'S2':^12}{'S3':^12}{'S4':^12}\")\n",
    "for row in range(4):\n",
    "    rowstr = \"S\"+ str(row+1)\n",
    "    for col in range(4):\n",
    "        val = transitionsC[row][col]/2 + transitionsR[row][col]/2\n",
    "        transitionProb[row][col] = val\n",
    "        rowstr += \"{:^12.4f}\".format(val)\n",
    "    print(rowstr)\n",
    "        \n",
    "print(\"\\nPart C. The probability for the query\")\n",
    "\n",
    "counts = [0,0,0,0]\n",
    "curr = random.randint(0,3)\n",
    "N = 10**6\n",
    "for _ in range(N):\n",
    "    next = random.random()\n",
    "        \n",
    "    if next < transitionProb[curr][0]:\n",
    "        curr = 0\n",
    "    elif next < transitionProb[curr][0]+transitionProb[curr][1]:\n",
    "        curr = 1\n",
    "    elif next < transitionProb[curr][0]+transitionProb[curr][1]+transitionProb[curr][2]:\n",
    "        curr = 2\n",
    "    else:\n",
    "        curr = 3\n",
    "        \n",
    "    counts[curr] += 1\n",
    "    \n",
    "print(\"P(C|-s,w) = <{:.4f},{:.4f}>\".format((counts[0]+counts[1])/N,(counts[2]+counts[3])/N))\n"
   ]
  },
  {
   "cell_type": "code",
   "execution_count": null,
   "id": "29217634-18d3-411e-80d2-e93641269ea4",
   "metadata": {},
   "outputs": [],
   "source": []
  }
 ],
 "metadata": {
  "kernelspec": {
   "display_name": "Python 3 (ipykernel)",
   "language": "python",
   "name": "python3"
  },
  "language_info": {
   "codemirror_mode": {
    "name": "ipython",
    "version": 3
   },
   "file_extension": ".py",
   "mimetype": "text/x-python",
   "name": "python",
   "nbconvert_exporter": "python",
   "pygments_lexer": "ipython3",
   "version": "3.10.11"
  }
 },
 "nbformat": 4,
 "nbformat_minor": 5
}
